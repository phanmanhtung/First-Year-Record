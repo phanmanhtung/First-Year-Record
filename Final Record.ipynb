{
 "cells": [
  {
   "cell_type": "code",
   "execution_count": 1,
   "metadata": {},
   "outputs": [],
   "source": [
    "import pandas as pd"
   ]
  },
  {
   "cell_type": "code",
   "execution_count": 2,
   "metadata": {},
   "outputs": [
    {
     "data": {
      "text/html": [
       "<div>\n",
       "<style scoped>\n",
       "    .dataframe tbody tr th:only-of-type {\n",
       "        vertical-align: middle;\n",
       "    }\n",
       "\n",
       "    .dataframe tbody tr th {\n",
       "        vertical-align: top;\n",
       "    }\n",
       "\n",
       "    .dataframe thead th {\n",
       "        text-align: right;\n",
       "    }\n",
       "</style>\n",
       "<table border=\"1\" class=\"dataframe\">\n",
       "  <thead>\n",
       "    <tr style=\"text-align: right;\">\n",
       "      <th></th>\n",
       "      <th>No.</th>\n",
       "      <th>Student ID</th>\n",
       "      <th>Tutorial Class</th>\n",
       "      <th>Attendance</th>\n",
       "      <th>Midterm</th>\n",
       "      <th>Quiz test</th>\n",
       "      <th>Final Exam</th>\n",
       "      <th>Average - first time</th>\n",
       "      <th>Retake exam mark</th>\n",
       "      <th>Final result</th>\n",
       "    </tr>\n",
       "  </thead>\n",
       "  <tbody>\n",
       "    <tr>\n",
       "      <th>0</th>\n",
       "      <td>1</td>\n",
       "      <td>USTHBI8-001</td>\n",
       "      <td>BI8-A</td>\n",
       "      <td>20,0</td>\n",
       "      <td>20,0</td>\n",
       "      <td>20,0</td>\n",
       "      <td>7,7</td>\n",
       "      <td>13,9</td>\n",
       "      <td>NaN</td>\n",
       "      <td>13,9</td>\n",
       "    </tr>\n",
       "    <tr>\n",
       "      <th>1</th>\n",
       "      <td>2</td>\n",
       "      <td>USTHBI8-002</td>\n",
       "      <td>BI8-E</td>\n",
       "      <td>20,0</td>\n",
       "      <td>20,0</td>\n",
       "      <td>12,5</td>\n",
       "      <td>3,8</td>\n",
       "      <td>10,8</td>\n",
       "      <td>NaN</td>\n",
       "      <td>10,8</td>\n",
       "    </tr>\n",
       "    <tr>\n",
       "      <th>2</th>\n",
       "      <td>3</td>\n",
       "      <td>USTHBI8-003</td>\n",
       "      <td>BI8-C</td>\n",
       "      <td>20,0</td>\n",
       "      <td>6,0</td>\n",
       "      <td>16,2</td>\n",
       "      <td>4,4</td>\n",
       "      <td>8,1</td>\n",
       "      <td>NaN</td>\n",
       "      <td>8,1</td>\n",
       "    </tr>\n",
       "    <tr>\n",
       "      <th>3</th>\n",
       "      <td>4</td>\n",
       "      <td>USTHBI8-004</td>\n",
       "      <td>BI8-D</td>\n",
       "      <td>20,0</td>\n",
       "      <td>16,4</td>\n",
       "      <td>20,0</td>\n",
       "      <td>6,6</td>\n",
       "      <td>12,4</td>\n",
       "      <td>NaN</td>\n",
       "      <td>12,4</td>\n",
       "    </tr>\n",
       "    <tr>\n",
       "      <th>4</th>\n",
       "      <td>5</td>\n",
       "      <td>USTHBI8-005</td>\n",
       "      <td>BI8-D</td>\n",
       "      <td>20,0</td>\n",
       "      <td>19,5</td>\n",
       "      <td>20,0</td>\n",
       "      <td>11,0</td>\n",
       "      <td>15,4</td>\n",
       "      <td>NaN</td>\n",
       "      <td>15,4</td>\n",
       "    </tr>\n",
       "  </tbody>\n",
       "</table>\n",
       "</div>"
      ],
      "text/plain": [
       "   No.   Student ID Tutorial Class Attendance Midterm Quiz test Final Exam  \\\n",
       "0    1  USTHBI8-001          BI8-A       20,0    20,0      20,0        7,7   \n",
       "1    2  USTHBI8-002          BI8-E       20,0    20,0      12,5        3,8   \n",
       "2    3  USTHBI8-003          BI8-C       20,0     6,0      16,2        4,4   \n",
       "3    4  USTHBI8-004          BI8-D       20,0    16,4      20,0        6,6   \n",
       "4    5  USTHBI8-005          BI8-D       20,0    19,5      20,0       11,0   \n",
       "\n",
       "  Average - first time  Retake exam mark Final result  \n",
       "0                 13,9               NaN         13,9  \n",
       "1                 10,8               NaN         10,8  \n",
       "2                  8,1               NaN          8,1  \n",
       "3                 12,4               NaN         12,4  \n",
       "4                 15,4               NaN         15,4  "
      ]
     },
     "execution_count": 2,
     "metadata": {},
     "output_type": "execute_result"
    }
   ],
   "source": [
    "mechanics = pd.read_excel('mechanics.xls')\n",
    "mechanics.head()"
   ]
  },
  {
   "cell_type": "code",
   "execution_count": 3,
   "metadata": {},
   "outputs": [
    {
     "data": {
      "text/plain": [
       "USTHBI8-001    13.9\n",
       "USTHBI8-002    10.8\n",
       "USTHBI8-004    12.4\n",
       "USTHBI8-005    15.4\n",
       "USTHBI8-007    14.0\n",
       "dtype: float32"
      ]
     },
     "execution_count": 3,
     "metadata": {},
     "output_type": "execute_result"
    }
   ],
   "source": [
    "keys = mechanics['Student ID'].values\n",
    "result = mechanics['Final result'].values\n",
    "result1 = []\n",
    "for i in result:\n",
    "    result1.append(i.replace(',', '.'))\n",
    "m = pd.Series(result1, index=keys)\n",
    "m1 = pd.to_numeric(m, downcast='float')\n",
    "mechanics = m1[m1>=10]\n",
    "mechanics.head()"
   ]
  },
  {
   "cell_type": "code",
   "execution_count": 4,
   "metadata": {},
   "outputs": [
    {
     "data": {
      "text/plain": [
       "84"
      ]
     },
     "execution_count": 4,
     "metadata": {},
     "output_type": "execute_result"
    }
   ],
   "source": [
    "linear = pd.read_excel('linear.xls')\n",
    "keys = linear['Student ID'].values\n",
    "result = linear['Final result'].values\n",
    "result1 = []\n",
    "for i in result:\n",
    "    result1.append(i.replace(',', '.'))\n",
    "m = pd.Series(result1, index=keys)\n",
    "m1 = pd.to_numeric(m, downcast='float')\n",
    "linear = m1[m1>=10]\n",
    "len(linear)"
   ]
  },
  {
   "cell_type": "code",
   "execution_count": 5,
   "metadata": {},
   "outputs": [
    {
     "data": {
      "text/plain": [
       "120"
      ]
     },
     "execution_count": 5,
     "metadata": {},
     "output_type": "execute_result"
    }
   ],
   "source": [
    "genchem = pd.read_excel('genchem.xls')\n",
    "keys = genchem['Student ID'].values\n",
    "result = genchem['Final result'].values\n",
    "result1 = []\n",
    "for i in result:\n",
    "    result1.append(i.replace(',', '.'))\n",
    "m = pd.Series(result1, index=keys)\n",
    "m1 = pd.to_numeric(m, downcast='float')\n",
    "genchem = m1[m1>=10]\n",
    "len(genchem)"
   ]
  },
  {
   "cell_type": "code",
   "execution_count": 6,
   "metadata": {},
   "outputs": [
    {
     "data": {
      "text/plain": [
       "USTHBI8-001    12.8\n",
       "USTHBI8-002    11.0\n",
       "USTHBI8-004    14.3\n",
       "USTHBI8-005    17.4\n",
       "USTHBI8-007    13.8\n",
       "dtype: float32"
      ]
     },
     "execution_count": 6,
     "metadata": {},
     "output_type": "execute_result"
    }
   ],
   "source": [
    "informatics = pd.read_excel('informatics.xls')\n",
    "keys = informatics['Student ID'].values\n",
    "result = informatics['Final result'].values\n",
    "result1 = []\n",
    "for i in result:\n",
    "    result1.append(i.replace(',', '.'))\n",
    "m = pd.Series(result1, index=keys)\n",
    "m1 = pd.to_numeric(m, downcast='float')\n",
    "informatics = m1[m1>=10]\n",
    "informatics.head()"
   ]
  },
  {
   "cell_type": "code",
   "execution_count": 7,
   "metadata": {},
   "outputs": [
    {
     "data": {
      "text/plain": [
       "109"
      ]
     },
     "execution_count": 7,
     "metadata": {},
     "output_type": "execute_result"
    }
   ],
   "source": [
    "cell = pd.read_excel('cell.xls')\n",
    "keys = cell['Student ID'].values\n",
    "result = cell['Final result'].values\n",
    "result1 = []\n",
    "for i in result:\n",
    "    result1.append(i.replace(',', '.'))\n",
    "m = pd.Series(result1, index=keys)\n",
    "m1 = pd.to_numeric(m, downcast='float')\n",
    "cell = m1[m1>=10]\n",
    "len(cell)"
   ]
  },
  {
   "cell_type": "code",
   "execution_count": 8,
   "metadata": {},
   "outputs": [
    {
     "data": {
      "text/plain": [
       "154"
      ]
     },
     "execution_count": 8,
     "metadata": {},
     "output_type": "execute_result"
    }
   ],
   "source": [
    "calculus1 = pd.read_excel('calculus1.xls')\n",
    "keys = calculus1['Student ID'].values\n",
    "result = calculus1['Final result'].values\n",
    "result1 = []\n",
    "for i in result:\n",
    "    result1.append(i.replace(',', '.'))\n",
    "m = pd.Series(result1, index=keys)\n",
    "m1 = pd.to_numeric(m, downcast='float')\n",
    "calculus1 = m1[m1>=10]\n",
    "len(calculus1)"
   ]
  },
  {
   "cell_type": "code",
   "execution_count": 9,
   "metadata": {},
   "outputs": [
    {
     "data": {
      "text/html": [
       "<div>\n",
       "<style scoped>\n",
       "    .dataframe tbody tr th:only-of-type {\n",
       "        vertical-align: middle;\n",
       "    }\n",
       "\n",
       "    .dataframe tbody tr th {\n",
       "        vertical-align: top;\n",
       "    }\n",
       "\n",
       "    .dataframe thead th {\n",
       "        text-align: right;\n",
       "    }\n",
       "</style>\n",
       "<table border=\"1\" class=\"dataframe\">\n",
       "  <thead>\n",
       "    <tr style=\"text-align: right;\">\n",
       "      <th></th>\n",
       "      <th>Student ID</th>\n",
       "      <th>Tutorial Class</th>\n",
       "      <th>Midterm</th>\n",
       "      <th>Final Exam</th>\n",
       "      <th>Final result</th>\n",
       "      <th>Unnamed: 5</th>\n",
       "      <th>Unnamed: 6</th>\n",
       "    </tr>\n",
       "  </thead>\n",
       "  <tbody>\n",
       "    <tr>\n",
       "      <th>0</th>\n",
       "      <td>USTHBI8-001</td>\n",
       "      <td>BI8-A</td>\n",
       "      <td>6,3</td>\n",
       "      <td>5,5</td>\n",
       "      <td>NaN</td>\n",
       "      <td>NaN</td>\n",
       "      <td>6,3</td>\n",
       "    </tr>\n",
       "    <tr>\n",
       "      <th>1</th>\n",
       "      <td>USTHBI8-002</td>\n",
       "      <td>BI8-E</td>\n",
       "      <td>4,9</td>\n",
       "      <td>3,5</td>\n",
       "      <td>NaN</td>\n",
       "      <td>NaN</td>\n",
       "      <td>4,9</td>\n",
       "    </tr>\n",
       "    <tr>\n",
       "      <th>2</th>\n",
       "      <td>USTHBI8-003</td>\n",
       "      <td>BI8-C</td>\n",
       "      <td>0,0</td>\n",
       "      <td>Unqualified</td>\n",
       "      <td>NaN</td>\n",
       "      <td>NaN</td>\n",
       "      <td>0,0</td>\n",
       "    </tr>\n",
       "    <tr>\n",
       "      <th>3</th>\n",
       "      <td>USTHBI8-004</td>\n",
       "      <td>BI8-D</td>\n",
       "      <td>10,5</td>\n",
       "      <td>10,5</td>\n",
       "      <td>NaN</td>\n",
       "      <td>NaN</td>\n",
       "      <td>10,5</td>\n",
       "    </tr>\n",
       "    <tr>\n",
       "      <th>4</th>\n",
       "      <td>USTHBI8-005</td>\n",
       "      <td>BI8-D</td>\n",
       "      <td>12,4</td>\n",
       "      <td>12,5</td>\n",
       "      <td>NaN</td>\n",
       "      <td>NaN</td>\n",
       "      <td>12,4</td>\n",
       "    </tr>\n",
       "  </tbody>\n",
       "</table>\n",
       "</div>"
      ],
      "text/plain": [
       "    Student ID Tutorial Class Midterm   Final Exam  Final result   Unnamed: 5  \\\n",
       "0  USTHBI8-001          BI8-A     6,3          5,5            NaN         NaN   \n",
       "1  USTHBI8-002          BI8-E     4,9          3,5            NaN         NaN   \n",
       "2  USTHBI8-003          BI8-C     0,0  Unqualified            NaN         NaN   \n",
       "3  USTHBI8-004          BI8-D    10,5         10,5            NaN         NaN   \n",
       "4  USTHBI8-005          BI8-D    12,4         12,5            NaN         NaN   \n",
       "\n",
       "  Unnamed: 6  \n",
       "0        6,3  \n",
       "1        4,9  \n",
       "2        0,0  \n",
       "3       10,5  \n",
       "4       12,4  "
      ]
     },
     "execution_count": 9,
     "metadata": {},
     "output_type": "execute_result"
    }
   ],
   "source": [
    "pd.read_excel('electro.xls').head()"
   ]
  },
  {
   "cell_type": "code",
   "execution_count": 10,
   "metadata": {},
   "outputs": [
    {
     "data": {
      "text/plain": [
       "69"
      ]
     },
     "execution_count": 10,
     "metadata": {},
     "output_type": "execute_result"
    }
   ],
   "source": [
    "electro = pd.read_excel('electro.xls')\n",
    "keys = electro['Student ID'].values\n",
    "result = electro['Midterm'].values\n",
    "result1 = []\n",
    "for i in result:\n",
    "    result1.append(i.replace(',', '.'))\n",
    "m = pd.Series(result1, index=keys)\n",
    "m1 = pd.to_numeric(m, downcast='float')\n",
    "electro = m1[m1>=10]\n",
    "len(electro)"
   ]
  },
  {
   "cell_type": "code",
   "execution_count": 11,
   "metadata": {},
   "outputs": [
    {
     "data": {
      "text/plain": [
       "137"
      ]
     },
     "execution_count": 11,
     "metadata": {},
     "output_type": "execute_result"
    }
   ],
   "source": [
    "optics = pd.read_excel('optics.xls')\n",
    "keys = optics['Student ID'].values\n",
    "result = optics['Final result'].values\n",
    "result1 = []\n",
    "for i in result:\n",
    "    result1.append(i.replace(',', '.'))\n",
    "m = pd.Series(result1, index=keys)\n",
    "m1 = pd.to_numeric(m, downcast='float')\n",
    "optics = m1[m1>=10]\n",
    "len(optics)"
   ]
  },
  {
   "cell_type": "code",
   "execution_count": 12,
   "metadata": {},
   "outputs": [
    {
     "data": {
      "text/plain": [
       "128"
      ]
     },
     "execution_count": 12,
     "metadata": {},
     "output_type": "execute_result"
    }
   ],
   "source": [
    "genetics = pd.read_excel('genetics.xls')\n",
    "keys = genetics['Student ID'].values\n",
    "result = genetics['Final result'].values\n",
    "result1 = []\n",
    "for i in result:\n",
    "    result1.append(i.replace(',', '.'))\n",
    "m = pd.Series(result1, index=keys)\n",
    "m1 = pd.to_numeric(m, downcast='float')\n",
    "genetics = m1[m1>=10]\n",
    "len(genetics)"
   ]
  },
  {
   "cell_type": "code",
   "execution_count": 13,
   "metadata": {},
   "outputs": [
    {
     "data": {
      "text/plain": [
       "132"
      ]
     },
     "execution_count": 13,
     "metadata": {},
     "output_type": "execute_result"
    }
   ],
   "source": [
    "genchem2 = pd.read_excel('genchem2.xls')\n",
    "keys = genchem2['Student ID'].values\n",
    "result = genchem2['Final result'].values\n",
    "result1 = []\n",
    "for i in result:\n",
    "    result1.append(i.replace(',', '.'))\n",
    "m = pd.Series(result1, index=keys)\n",
    "m1 = pd.to_numeric(m, downcast='float')\n",
    "genchem2 = m1[m1>=10]\n",
    "len(genchem2)"
   ]
  },
  {
   "cell_type": "code",
   "execution_count": 14,
   "metadata": {},
   "outputs": [
    {
     "data": {
      "text/plain": [
       "86"
      ]
     },
     "execution_count": 14,
     "metadata": {},
     "output_type": "execute_result"
    }
   ],
   "source": [
    "organ = pd.read_excel('organ.xls')\n",
    "keys = organ['Student ID'].values\n",
    "result = organ['Final result'].values\n",
    "result1 = []\n",
    "for i in result:\n",
    "    result1.append(i.replace(',', '.'))\n",
    "m = pd.Series(result1, index=keys)\n",
    "m1 = pd.to_numeric(m, downcast='float')\n",
    "organ = m1[m1>=10]\n",
    "len(organ)"
   ]
  },
  {
   "cell_type": "code",
   "execution_count": 15,
   "metadata": {},
   "outputs": [
    {
     "data": {
      "text/plain": [
       "94"
      ]
     },
     "execution_count": 15,
     "metadata": {},
     "output_type": "execute_result"
    }
   ],
   "source": [
    "cal2 = pd.read_excel('cal2.xls')\n",
    "keys = cal2['Student ID'].values\n",
    "result = cal2['Final result'].values\n",
    "result1 = []\n",
    "for i in result:\n",
    "    result1.append(i.replace(',', '.'))\n",
    "m = pd.Series(result1, index=keys)\n",
    "m1 = pd.to_numeric(m, downcast='float')\n",
    "cal2 = m1[m1>=10]\n",
    "len(cal2)"
   ]
  },
  {
   "cell_type": "code",
   "execution_count": 16,
   "metadata": {},
   "outputs": [
    {
     "data": {
      "text/plain": [
       "185"
      ]
     },
     "execution_count": 16,
     "metadata": {},
     "output_type": "execute_result"
    }
   ],
   "source": [
    "SciEng = pd.read_excel('SciEng.xls')\n",
    "keys = SciEng['Student ID'].values\n",
    "result1 = SciEng['Final result'].values\n",
    "\n",
    "m = pd.Series(result1, index=keys)\n",
    "m1 = pd.to_numeric(m, downcast='float')\n",
    "SciEng = m1[m1>=10]\n",
    "len(SciEng)"
   ]
  },
  {
   "cell_type": "code",
   "execution_count": 17,
   "metadata": {},
   "outputs": [
    {
     "data": {
      "text/plain": [
       "68"
      ]
     },
     "execution_count": 17,
     "metadata": {},
     "output_type": "execute_result"
    }
   ],
   "source": [
    "program = pd.read_excel('program.xls')\n",
    "keys = program['Student ID'].values\n",
    "result = program['Final result'].values\n",
    "result1 = []\n",
    "for i in result:\n",
    "    result1.append(i.replace(',', '.'))\n",
    "m = pd.Series(result1, index=keys)\n",
    "m1 = pd.to_numeric(m, downcast='float')\n",
    "program = m1[m1>=10]\n",
    "len(program)"
   ]
  },
  {
   "cell_type": "code",
   "execution_count": 18,
   "metadata": {},
   "outputs": [
    {
     "data": {
      "text/plain": [
       "168"
      ]
     },
     "execution_count": 18,
     "metadata": {},
     "output_type": "execute_result"
    }
   ],
   "source": [
    "pracphy = pd.read_excel('pracphy.xls')\n",
    "keys = pracphy['Student ID'].values\n",
    "result = pracphy['Final result'].values\n",
    "result1 = []\n",
    "for i in result:\n",
    "    result1.append(i.replace(',', '.'))\n",
    "m = pd.Series(result1, index=keys)\n",
    "m1 = pd.to_numeric(m, downcast='float')\n",
    "pracphy = m1[m1>=10]\n",
    "len(pracphy)"
   ]
  },
  {
   "cell_type": "code",
   "execution_count": 19,
   "metadata": {},
   "outputs": [
    {
     "data": {
      "text/plain": [
       "173"
      ]
     },
     "execution_count": 19,
     "metadata": {},
     "output_type": "execute_result"
    }
   ],
   "source": [
    "acawrite = pd.read_excel('acawrite.xls')\n",
    "keys = acawrite[1].values\n",
    "result = acawrite[2].values\n",
    "result1 = []\n",
    "for i in result:\n",
    "    result1.append(i.replace(',', '.'))\n",
    "m = pd.Series(result1, index=keys)\n",
    "m1 = pd.to_numeric(m, downcast='float')\n",
    "acawrite = m1[m1>=10]\n",
    "len(acawrite)"
   ]
  },
  {
   "cell_type": "code",
   "execution_count": 20,
   "metadata": {},
   "outputs": [
    {
     "data": {
      "text/plain": [
       "174"
      ]
     },
     "execution_count": 20,
     "metadata": {},
     "output_type": "execute_result"
    }
   ],
   "source": [
    "present = pd.read_excel('present.xls')\n",
    "keys = present[1].values\n",
    "result = present[2].values\n",
    "result1 = []\n",
    "for i in result:\n",
    "    result1.append(i.replace(',', '.'))\n",
    "m = pd.Series(result1, index=keys)\n",
    "m1 = pd.to_numeric(m, downcast='float')\n",
    "present = m1[m1>=10]\n",
    "len(present)"
   ]
  },
  {
   "cell_type": "code",
   "execution_count": 21,
   "metadata": {},
   "outputs": [
    {
     "data": {
      "text/plain": [
       "174"
      ]
     },
     "execution_count": 21,
     "metadata": {},
     "output_type": "execute_result"
    }
   ],
   "source": [
    "notetake = pd.read_excel('notetake.xls')\n",
    "keys = notetake[1].values\n",
    "result = notetake[2].values\n",
    "result1 = []\n",
    "for i in result:\n",
    "    result1.append(i.replace(',', '.'))\n",
    "m = pd.Series(result1, index=keys)\n",
    "m1 = pd.to_numeric(m, downcast='float')\n",
    "notetake = m1[m1>=10]\n",
    "len(notetake)"
   ]
  },
  {
   "cell_type": "code",
   "execution_count": 22,
   "metadata": {},
   "outputs": [
    {
     "data": {
      "text/plain": [
       "174"
      ]
     },
     "execution_count": 22,
     "metadata": {},
     "output_type": "execute_result"
    }
   ],
   "source": [
    "speak = pd.read_excel('speak.xls')\n",
    "keys = speak[1].values\n",
    "result = speak[2].values\n",
    "result1 = []\n",
    "for i in result:\n",
    "    result1.append(i.replace(',', '.'))\n",
    "m = pd.Series(result1, index=keys)\n",
    "m1 = pd.to_numeric(m, downcast='float')\n",
    "speak = m1[m1>=10]\n",
    "len(speak)"
   ]
  },
  {
   "cell_type": "code",
   "execution_count": 23,
   "metadata": {},
   "outputs": [
    {
     "data": {
      "text/plain": [
       "180"
      ]
     },
     "execution_count": 23,
     "metadata": {},
     "output_type": "execute_result"
    }
   ],
   "source": [
    "write = pd.read_excel('write.xls')\n",
    "keys = write[1].values\n",
    "result = write[2].values\n",
    "result1 = []\n",
    "for i in result:\n",
    "    result1.append(i.replace(',', '.'))\n",
    "m = pd.Series(result1, index=keys)\n",
    "m1 = pd.to_numeric(m, downcast='float')\n",
    "write = m1[m1>=10]\n",
    "len(write)"
   ]
  },
  {
   "cell_type": "code",
   "execution_count": 24,
   "metadata": {},
   "outputs": [
    {
     "data": {
      "text/plain": [
       "182"
      ]
     },
     "execution_count": 24,
     "metadata": {},
     "output_type": "execute_result"
    }
   ],
   "source": [
    "read = pd.read_excel('read.xls')\n",
    "keys = read[1].values\n",
    "result = read[2].values\n",
    "result1 = []\n",
    "for i in result:\n",
    "    result1.append(i.replace(',', '.'))\n",
    "m = pd.Series(result1, index=keys)\n",
    "m1 = pd.to_numeric(m, downcast='float')\n",
    "read = m1[m1>=10]\n",
    "len(read)"
   ]
  },
  {
   "cell_type": "code",
   "execution_count": 25,
   "metadata": {},
   "outputs": [
    {
     "data": {
      "text/plain": [
       "176"
      ]
     },
     "execution_count": 25,
     "metadata": {},
     "output_type": "execute_result"
    }
   ],
   "source": [
    "listen = pd.read_excel('listen.xls')\n",
    "keys = listen[1].values\n",
    "result = listen[2].values\n",
    "result1 = []\n",
    "for i in result:\n",
    "    result1.append(i.replace(',', '.'))\n",
    "m = pd.Series(result1, index=keys)\n",
    "m1 = pd.to_numeric(m, downcast='float')\n",
    "listen = m1[m1>=10]\n",
    "len(listen)"
   ]
  },
  {
   "cell_type": "code",
   "execution_count": 26,
   "metadata": {},
   "outputs": [
    {
     "data": {
      "text/plain": [
       "191"
      ]
     },
     "execution_count": 26,
     "metadata": {},
     "output_type": "execute_result"
    }
   ],
   "source": [
    "import numpy as np\n",
    "\n",
    "econ = pd.read_excel('econ.xlsx')\n",
    "econ.columns = np.arange(0,12)\n",
    "econ.drop(econ.index[[0,1,2,3,4,5,200,201]], inplace=True)\n",
    "econ.fillna(15, inplace=True)\n",
    "\n",
    "keys = econ[1].values\n",
    "result = econ[10].values\n",
    "\n",
    "m = pd.Series(result, index=keys)\n",
    "m1 = pd.to_numeric(m, downcast='float')\n",
    "econ = m1[m1>=10]\n",
    "len(econ)"
   ]
  },
  {
   "cell_type": "code",
   "execution_count": 27,
   "metadata": {},
   "outputs": [
    {
     "data": {
      "text/plain": [
       "141"
      ]
     },
     "execution_count": 27,
     "metadata": {},
     "output_type": "execute_result"
    }
   ],
   "source": [
    "law = pd.read_excel('law.xlsx')\n",
    "law.columns = np.arange(0,11)\n",
    "law.drop(law.index[[0,1,2,3,4,5]], inplace=True)\n",
    "law.fillna(15, inplace=True)\n",
    "\n",
    "keys = law[1].values\n",
    "result = law[7].values\n",
    "\n",
    "m = pd.Series(result, index=keys)\n",
    "m1 = pd.to_numeric(m, downcast='float')\n",
    "law = m1[m1>=10]\n",
    "len(law)"
   ]
  },
  {
   "cell_type": "code",
   "execution_count": 28,
   "metadata": {},
   "outputs": [
    {
     "data": {
      "text/plain": [
       "164"
      ]
     },
     "execution_count": 28,
     "metadata": {},
     "output_type": "execute_result"
    }
   ],
   "source": [
    "pracchem = pd.read_excel('pracchem.xls')\n",
    "keys = pracchem['Student ID'].values\n",
    "result = pracchem['Final result'].values\n",
    "result1 = []\n",
    "for i in result:\n",
    "    result1.append(i.replace(',', '.'))\n",
    "m = pd.Series(result1, index=keys)\n",
    "m1 = pd.to_numeric(m, downcast='float')\n",
    "pracchem = m1[m1>=10]\n",
    "len(pracchem)"
   ]
  },
  {
   "cell_type": "code",
   "execution_count": 29,
   "metadata": {},
   "outputs": [],
   "source": [
    "final = (acawrite*2 + read + listen + write*2 + speak*2 + notetake*2 + present*2 + SciEng*3 + econ + law \n",
    "         + cell*3 + informatics*4 + calculus1*3 + mechanics*3 + linear*3 + genchem*3 + electro*2 \n",
    "         + optics*2 + genetics*3 + genchem2*3 + cal2*3 + organ*3+ program*4 + pracphy *2 + pracchem*2)/ 60"
   ]
  },
  {
   "cell_type": "code",
   "execution_count": 30,
   "metadata": {},
   "outputs": [
    {
     "data": {
      "text/plain": [
       "27"
      ]
     },
     "execution_count": 30,
     "metadata": {},
     "output_type": "execute_result"
    }
   ],
   "source": [
    "final = final[final.notnull()]\n",
    "len(final)"
   ]
  },
  {
   "cell_type": "code",
   "execution_count": 31,
   "metadata": {},
   "outputs": [
    {
     "data": {
      "text/html": [
       "<div>\n",
       "<style scoped>\n",
       "    .dataframe tbody tr th:only-of-type {\n",
       "        vertical-align: middle;\n",
       "    }\n",
       "\n",
       "    .dataframe tbody tr th {\n",
       "        vertical-align: top;\n",
       "    }\n",
       "\n",
       "    .dataframe thead th {\n",
       "        text-align: right;\n",
       "    }\n",
       "</style>\n",
       "<table border=\"1\" class=\"dataframe\">\n",
       "  <thead>\n",
       "    <tr style=\"text-align: right;\">\n",
       "      <th></th>\n",
       "      <th>Student ID</th>\n",
       "      <th>first</th>\n",
       "      <th>last</th>\n",
       "      <th>DoB</th>\n",
       "      <th>CLASS</th>\n",
       "    </tr>\n",
       "  </thead>\n",
       "  <tbody>\n",
       "    <tr>\n",
       "      <th>0</th>\n",
       "      <td>USTHBI8-014</td>\n",
       "      <td>Nguyễn Xuân Duy</td>\n",
       "      <td>Anh</td>\n",
       "      <td>1999-12-02 00:00:00</td>\n",
       "      <td>B101</td>\n",
       "    </tr>\n",
       "    <tr>\n",
       "      <th>1</th>\n",
       "      <td>USTHBI8-012</td>\n",
       "      <td>Nguyễn Duy</td>\n",
       "      <td>Anh</td>\n",
       "      <td>26/2/1999</td>\n",
       "      <td>B101</td>\n",
       "    </tr>\n",
       "    <tr>\n",
       "      <th>2</th>\n",
       "      <td>USTHBI8-025</td>\n",
       "      <td>Phạm Quỳnh</td>\n",
       "      <td>Châm</td>\n",
       "      <td>26/12/1999</td>\n",
       "      <td>B101</td>\n",
       "    </tr>\n",
       "    <tr>\n",
       "      <th>3</th>\n",
       "      <td>USTHBI7-028</td>\n",
       "      <td>Nguyễn Thành</td>\n",
       "      <td>Chung</td>\n",
       "      <td>NaN</td>\n",
       "      <td>B101</td>\n",
       "    </tr>\n",
       "    <tr>\n",
       "      <th>4</th>\n",
       "      <td>USTHBI7-042</td>\n",
       "      <td>Võ Minh</td>\n",
       "      <td>Đức</td>\n",
       "      <td>NaN</td>\n",
       "      <td>B101</td>\n",
       "    </tr>\n",
       "  </tbody>\n",
       "</table>\n",
       "</div>"
      ],
      "text/plain": [
       "    Student ID            first   last                  DoB CLASS\n",
       "0  USTHBI8-014  Nguyễn Xuân Duy    Anh  1999-12-02 00:00:00  B101\n",
       "1  USTHBI8-012      Nguyễn Duy     Anh            26/2/1999  B101\n",
       "2  USTHBI8-025       Phạm Quỳnh   Châm           26/12/1999  B101\n",
       "3  USTHBI7-028     Nguyễn Thành  Chung                  NaN  B101\n",
       "4  USTHBI7-042          Võ Minh    Đức                  NaN  B101"
      ]
     },
     "execution_count": 31,
     "metadata": {},
     "output_type": "execute_result"
    }
   ],
   "source": [
    "studentlist = pd.read_excel('studentlist.xls')\n",
    "studentlist.head()"
   ]
  },
  {
   "cell_type": "code",
   "execution_count": 32,
   "metadata": {},
   "outputs": [],
   "source": [
    "# choose index column\n",
    "studentlist = studentlist.set_index('Student ID')"
   ]
  },
  {
   "cell_type": "code",
   "execution_count": 33,
   "metadata": {},
   "outputs": [],
   "source": [
    "# Delete columns\n",
    "del studentlist['DoB']\n",
    "del studentlist['CLASS']"
   ]
  },
  {
   "cell_type": "code",
   "execution_count": 34,
   "metadata": {},
   "outputs": [],
   "source": [
    "studentlist['result'] = final"
   ]
  },
  {
   "cell_type": "code",
   "execution_count": 35,
   "metadata": {},
   "outputs": [
    {
     "data": {
      "text/html": [
       "<div>\n",
       "<style scoped>\n",
       "    .dataframe tbody tr th:only-of-type {\n",
       "        vertical-align: middle;\n",
       "    }\n",
       "\n",
       "    .dataframe tbody tr th {\n",
       "        vertical-align: top;\n",
       "    }\n",
       "\n",
       "    .dataframe thead th {\n",
       "        text-align: right;\n",
       "    }\n",
       "</style>\n",
       "<table border=\"1\" class=\"dataframe\">\n",
       "  <thead>\n",
       "    <tr style=\"text-align: right;\">\n",
       "      <th></th>\n",
       "      <th>first</th>\n",
       "      <th>last</th>\n",
       "      <th>result</th>\n",
       "    </tr>\n",
       "    <tr>\n",
       "      <th>Student ID</th>\n",
       "      <th></th>\n",
       "      <th></th>\n",
       "      <th></th>\n",
       "    </tr>\n",
       "  </thead>\n",
       "  <tbody>\n",
       "    <tr>\n",
       "      <th>USTHBI8-011</th>\n",
       "      <td>Đỗ Hoàng</td>\n",
       "      <td>Anh</td>\n",
       "      <td>17.193333</td>\n",
       "    </tr>\n",
       "    <tr>\n",
       "      <th>USTHBI8-109</th>\n",
       "      <td>Phạm Thị Ngọc</td>\n",
       "      <td>Mai</td>\n",
       "      <td>16.910000</td>\n",
       "    </tr>\n",
       "    <tr>\n",
       "      <th>USTHBI8-096</th>\n",
       "      <td>Hoàng Khánh</td>\n",
       "      <td>Linh</td>\n",
       "      <td>16.423332</td>\n",
       "    </tr>\n",
       "    <tr>\n",
       "      <th>USTHBI8-059</th>\n",
       "      <td>Trần Thị Mỹ</td>\n",
       "      <td>Hạnh</td>\n",
       "      <td>16.164999</td>\n",
       "    </tr>\n",
       "    <tr>\n",
       "      <th>USTHBI8-034</th>\n",
       "      <td>Trịnh Đình</td>\n",
       "      <td>Duy</td>\n",
       "      <td>16.158337</td>\n",
       "    </tr>\n",
       "    <tr>\n",
       "      <th>USTHBI8-085</th>\n",
       "      <td>Vũ Toàn</td>\n",
       "      <td>Khánh</td>\n",
       "      <td>16.111668</td>\n",
       "    </tr>\n",
       "    <tr>\n",
       "      <th>USTHBI8-091</th>\n",
       "      <td>Lê Thị</td>\n",
       "      <td>Liên</td>\n",
       "      <td>16.076666</td>\n",
       "    </tr>\n",
       "    <tr>\n",
       "      <th>USTHBI8-005</th>\n",
       "      <td>Nguyễn Hoàng Quân</td>\n",
       "      <td>Anh</td>\n",
       "      <td>16.014999</td>\n",
       "    </tr>\n",
       "    <tr>\n",
       "      <th>USTHBI8-058</th>\n",
       "      <td>Lê Phương</td>\n",
       "      <td>Hà</td>\n",
       "      <td>15.921667</td>\n",
       "    </tr>\n",
       "    <tr>\n",
       "      <th>USTHBI8-189</th>\n",
       "      <td>Trương Sĩ Thi</td>\n",
       "      <td>Vũ</td>\n",
       "      <td>15.848332</td>\n",
       "    </tr>\n",
       "    <tr>\n",
       "      <th>USTHBI8-042</th>\n",
       "      <td>Đỗ Đăng Minh</td>\n",
       "      <td>Đức</td>\n",
       "      <td>15.630000</td>\n",
       "    </tr>\n",
       "    <tr>\n",
       "      <th>USTHBI8-172</th>\n",
       "      <td>Lê Quang</td>\n",
       "      <td>Thắng</td>\n",
       "      <td>15.520001</td>\n",
       "    </tr>\n",
       "    <tr>\n",
       "      <th>USTHBI8-101</th>\n",
       "      <td>Huỳnh Huệ</td>\n",
       "      <td>Linh</td>\n",
       "      <td>15.373334</td>\n",
       "    </tr>\n",
       "    <tr>\n",
       "      <th>USTHBI8-062</th>\n",
       "      <td>Lê Như Chu</td>\n",
       "      <td>Hiệp</td>\n",
       "      <td>15.346667</td>\n",
       "    </tr>\n",
       "    <tr>\n",
       "      <th>USTHBI8-160</th>\n",
       "      <td>Phan Mạnh</td>\n",
       "      <td>Tùng</td>\n",
       "      <td>15.176667</td>\n",
       "    </tr>\n",
       "    <tr>\n",
       "      <th>USTHBI8-141</th>\n",
       "      <td>Đinh Như Minh</td>\n",
       "      <td>Phương</td>\n",
       "      <td>15.025000</td>\n",
       "    </tr>\n",
       "    <tr>\n",
       "      <th>USTHBI8-041</th>\n",
       "      <td>Nguyễn Tiến</td>\n",
       "      <td>Đạt</td>\n",
       "      <td>14.956666</td>\n",
       "    </tr>\n",
       "    <tr>\n",
       "      <th>USTHBI8-057</th>\n",
       "      <td>Phạm Ngọc</td>\n",
       "      <td>Hà</td>\n",
       "      <td>14.684999</td>\n",
       "    </tr>\n",
       "    <tr>\n",
       "      <th>USTHBI8-013</th>\n",
       "      <td>Nguyễn Vân</td>\n",
       "      <td>Anh</td>\n",
       "      <td>14.681668</td>\n",
       "    </tr>\n",
       "    <tr>\n",
       "      <th>USTHBI8-158</th>\n",
       "      <td>Nguyễn Anh</td>\n",
       "      <td>Tuấn</td>\n",
       "      <td>14.606668</td>\n",
       "    </tr>\n",
       "    <tr>\n",
       "      <th>USTHBI8-023</th>\n",
       "      <td>Từ Quang</td>\n",
       "      <td>Bảo</td>\n",
       "      <td>14.578334</td>\n",
       "    </tr>\n",
       "    <tr>\n",
       "      <th>USTHBI8-133</th>\n",
       "      <td>Vũ Anh Hạnh</td>\n",
       "      <td>Nguyên</td>\n",
       "      <td>14.220001</td>\n",
       "    </tr>\n",
       "    <tr>\n",
       "      <th>USTHBI8-019</th>\n",
       "      <td>Lê Hoàng</td>\n",
       "      <td>Anh</td>\n",
       "      <td>14.214999</td>\n",
       "    </tr>\n",
       "    <tr>\n",
       "      <th>USTHBI8-026</th>\n",
       "      <td>Nguyễn Đan</td>\n",
       "      <td>Chi</td>\n",
       "      <td>14.145000</td>\n",
       "    </tr>\n",
       "    <tr>\n",
       "      <th>USTHBI8-035</th>\n",
       "      <td>Nguyễn Đăng</td>\n",
       "      <td>Dương</td>\n",
       "      <td>14.039999</td>\n",
       "    </tr>\n",
       "    <tr>\n",
       "      <th>USTHBI8-131</th>\n",
       "      <td>Cao Thị Anh</td>\n",
       "      <td>Ngọc</td>\n",
       "      <td>13.799999</td>\n",
       "    </tr>\n",
       "    <tr>\n",
       "      <th>USTHBI8-004</th>\n",
       "      <td>Chu Nguyễn Hoàng</td>\n",
       "      <td>Anh</td>\n",
       "      <td>13.695001</td>\n",
       "    </tr>\n",
       "  </tbody>\n",
       "</table>\n",
       "</div>"
      ],
      "text/plain": [
       "                         first    last     result\n",
       "Student ID                                       \n",
       "USTHBI8-011           Đỗ Hoàng     Anh  17.193333\n",
       "USTHBI8-109      Phạm Thị Ngọc     Mai  16.910000\n",
       "USTHBI8-096        Hoàng Khánh    Linh  16.423332\n",
       "USTHBI8-059        Trần Thị Mỹ    Hạnh  16.164999\n",
       "USTHBI8-034        Trịnh Đình      Duy  16.158337\n",
       "USTHBI8-085            Vũ Toàn   Khánh  16.111668\n",
       "USTHBI8-091             Lê Thị    Liên  16.076666\n",
       "USTHBI8-005  Nguyễn Hoàng Quân     Anh  16.014999\n",
       "USTHBI8-058          Lê Phương      Hà  15.921667\n",
       "USTHBI8-189      Trương Sĩ Thi      Vũ  15.848332\n",
       "USTHBI8-042       Đỗ Đăng Minh     Đức  15.630000\n",
       "USTHBI8-172           Lê Quang   Thắng  15.520001\n",
       "USTHBI8-101          Huỳnh Huệ    Linh  15.373334\n",
       "USTHBI8-062        Lê Như Chu     Hiệp  15.346667\n",
       "USTHBI8-160          Phan Mạnh    Tùng  15.176667\n",
       "USTHBI8-141     Đinh Như Minh   Phương  15.025000\n",
       "USTHBI8-041        Nguyễn Tiến     Đạt  14.956666\n",
       "USTHBI8-057         Phạm Ngọc       Hà  14.684999\n",
       "USTHBI8-013         Nguyễn Vân     Anh  14.681668\n",
       "USTHBI8-158        Nguyễn Anh     Tuấn  14.606668\n",
       "USTHBI8-023          Từ Quang      Bảo  14.578334\n",
       "USTHBI8-133       Vũ Anh Hạnh   Nguyên  14.220001\n",
       "USTHBI8-019           Lê Hoàng     Anh  14.214999\n",
       "USTHBI8-026         Nguyễn Đan     Chi  14.145000\n",
       "USTHBI8-035       Nguyễn Đăng    Dương  14.039999\n",
       "USTHBI8-131       Cao Thị Anh     Ngọc  13.799999\n",
       "USTHBI8-004   Chu Nguyễn Hoàng     Anh  13.695001"
      ]
     },
     "execution_count": 35,
     "metadata": {},
     "output_type": "execute_result"
    }
   ],
   "source": [
    "finalTable = studentlist[studentlist['result'].notnull()]\n",
    "finalTable.sort_values('result', ascending=False)"
   ]
  }
 ],
 "metadata": {
  "kernelspec": {
   "display_name": "Python 3",
   "language": "python",
   "name": "python3"
  },
  "language_info": {
   "codemirror_mode": {
    "name": "ipython",
    "version": 3
   },
   "file_extension": ".py",
   "mimetype": "text/x-python",
   "name": "python",
   "nbconvert_exporter": "python",
   "pygments_lexer": "ipython3",
   "version": "3.6.5"
  }
 },
 "nbformat": 4,
 "nbformat_minor": 2
}
